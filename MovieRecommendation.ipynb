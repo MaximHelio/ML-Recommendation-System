{
 "cells": [
  {
   "cell_type": "markdown",
   "metadata": {
    "id": "NqqLNJZjfi8U"
   },
   "source": [
    "# 영화 데이터셋을 이용한 추천 모델 학습\n",
    "----------\n",
    "    \n",
    "    \n",
    "## 데이터 소개\n",
    "    - MovieLens Dataset을 사용\n",
    "    \n",
    "    1. ratings.dat\n",
    "    user_id : 영화를 시청한 사용자 아이디\n",
    "    movie_id : 영화의 아이디\n",
    "    rating : 사용자가 영화를 평가한 점수\n",
    "    time : 사용자가 영화를 시청한 시간\n",
    "    \n",
    "    2. movies.dat\n",
    "    movie_id : 영화의 아이디\n",
    "    title : 영화 제목\n",
    "    genre : 영화 장르\n",
    "\n",
    "    \n",
    "- 데이터 출처: https://grouplens.org/datasets/movielens/\n",
    "---"
   ]
  },
  {
   "cell_type": "markdown",
   "metadata": {
    "id": "z3ImE3b9W1bu"
   },
   "source": [
    "## Step 1. 데이터 전처리"
   ]
  },
  {
   "cell_type": "markdown",
   "metadata": {
    "id": "OxCZryRrfi8Y"
   },
   "source": [
    "### 데이터 불러오기"
   ]
  },
  {
   "cell_type": "code",
   "execution_count": 1,
   "metadata": {
    "colab": {
     "base_uri": "https://localhost:8080/",
     "height": 204
    },
    "executionInfo": {
     "elapsed": 6799,
     "status": "ok",
     "timestamp": 1607416350375,
     "user": {
      "displayName": "윤기태",
      "photoUrl": "https://lh3.googleusercontent.com/a-/AOh14GhjX4czjHvHYRaEdNzkkF2s-g0b57J74mP9aSZTyg=s64",
      "userId": "10622173580637109440"
     },
     "user_tz": -540
    },
    "id": "anUepBeJfi8V",
    "outputId": "f3f0fbcc-5db2-44b0-c0e2-8b506805018e"
   },
   "outputs": [
    {
     "data": {
      "text/html": [
       "<div>\n",
       "<style scoped>\n",
       "    .dataframe tbody tr th:only-of-type {\n",
       "        vertical-align: middle;\n",
       "    }\n",
       "\n",
       "    .dataframe tbody tr th {\n",
       "        vertical-align: top;\n",
       "    }\n",
       "\n",
       "    .dataframe thead th {\n",
       "        text-align: right;\n",
       "    }\n",
       "</style>\n",
       "<table border=\"1\" class=\"dataframe\">\n",
       "  <thead>\n",
       "    <tr style=\"text-align: right;\">\n",
       "      <th></th>\n",
       "      <th>user_id</th>\n",
       "      <th>movie_id</th>\n",
       "      <th>rating</th>\n",
       "      <th>time</th>\n",
       "    </tr>\n",
       "  </thead>\n",
       "  <tbody>\n",
       "    <tr>\n",
       "      <th>0</th>\n",
       "      <td>1</td>\n",
       "      <td>1193</td>\n",
       "      <td>5</td>\n",
       "      <td>978300760</td>\n",
       "    </tr>\n",
       "    <tr>\n",
       "      <th>1</th>\n",
       "      <td>1</td>\n",
       "      <td>661</td>\n",
       "      <td>3</td>\n",
       "      <td>978302109</td>\n",
       "    </tr>\n",
       "    <tr>\n",
       "      <th>2</th>\n",
       "      <td>1</td>\n",
       "      <td>914</td>\n",
       "      <td>3</td>\n",
       "      <td>978301968</td>\n",
       "    </tr>\n",
       "    <tr>\n",
       "      <th>3</th>\n",
       "      <td>1</td>\n",
       "      <td>3408</td>\n",
       "      <td>4</td>\n",
       "      <td>978300275</td>\n",
       "    </tr>\n",
       "    <tr>\n",
       "      <th>4</th>\n",
       "      <td>1</td>\n",
       "      <td>2355</td>\n",
       "      <td>5</td>\n",
       "      <td>978824291</td>\n",
       "    </tr>\n",
       "  </tbody>\n",
       "</table>\n",
       "</div>"
      ],
      "text/plain": [
       "   user_id  movie_id  rating       time\n",
       "0        1      1193       5  978300760\n",
       "1        1       661       3  978302109\n",
       "2        1       914       3  978301968\n",
       "3        1      3408       4  978300275\n",
       "4        1      2355       5  978824291"
      ]
     },
     "execution_count": 1,
     "metadata": {},
     "output_type": "execute_result"
    }
   ],
   "source": [
    "import pandas as pd\n",
    "\n",
    "rating_url = './data/ratings.dat'\n",
    "rating_df = pd.io.parsers.read_csv(rating_url, names=['user_id', 'movie_id', 'rating', 'time'], delimiter='::', engine ='python')\n",
    "rating_df.head()\n",
    "# time: 유닉스 타임, 클수록 현재에 가까움"
   ]
  },
  {
   "cell_type": "code",
   "execution_count": 2,
   "metadata": {
    "colab": {
     "base_uri": "https://localhost:8080/",
     "height": 204
    },
    "executionInfo": {
     "elapsed": 6790,
     "status": "ok",
     "timestamp": 1607416350376,
     "user": {
      "displayName": "윤기태",
      "photoUrl": "https://lh3.googleusercontent.com/a-/AOh14GhjX4czjHvHYRaEdNzkkF2s-g0b57J74mP9aSZTyg=s64",
      "userId": "10622173580637109440"
     },
     "user_tz": -540
    },
    "id": "JypFr1jFErsf",
    "outputId": "48e21e99-57d6-4844-b230-dd9a4eb2ab0d"
   },
   "outputs": [
    {
     "data": {
      "text/html": [
       "<div>\n",
       "<style scoped>\n",
       "    .dataframe tbody tr th:only-of-type {\n",
       "        vertical-align: middle;\n",
       "    }\n",
       "\n",
       "    .dataframe tbody tr th {\n",
       "        vertical-align: top;\n",
       "    }\n",
       "\n",
       "    .dataframe thead th {\n",
       "        text-align: right;\n",
       "    }\n",
       "</style>\n",
       "<table border=\"1\" class=\"dataframe\">\n",
       "  <thead>\n",
       "    <tr style=\"text-align: right;\">\n",
       "      <th></th>\n",
       "      <th>movie_id</th>\n",
       "      <th>title</th>\n",
       "      <th>genre</th>\n",
       "    </tr>\n",
       "  </thead>\n",
       "  <tbody>\n",
       "    <tr>\n",
       "      <th>0</th>\n",
       "      <td>1</td>\n",
       "      <td>Toy Story (1995)</td>\n",
       "      <td>Animation|Children's|Comedy</td>\n",
       "    </tr>\n",
       "    <tr>\n",
       "      <th>1</th>\n",
       "      <td>2</td>\n",
       "      <td>Jumanji (1995)</td>\n",
       "      <td>Adventure|Children's|Fantasy</td>\n",
       "    </tr>\n",
       "    <tr>\n",
       "      <th>2</th>\n",
       "      <td>3</td>\n",
       "      <td>Grumpier Old Men (1995)</td>\n",
       "      <td>Comedy|Romance</td>\n",
       "    </tr>\n",
       "    <tr>\n",
       "      <th>3</th>\n",
       "      <td>4</td>\n",
       "      <td>Waiting to Exhale (1995)</td>\n",
       "      <td>Comedy|Drama</td>\n",
       "    </tr>\n",
       "    <tr>\n",
       "      <th>4</th>\n",
       "      <td>5</td>\n",
       "      <td>Father of the Bride Part II (1995)</td>\n",
       "      <td>Comedy</td>\n",
       "    </tr>\n",
       "  </tbody>\n",
       "</table>\n",
       "</div>"
      ],
      "text/plain": [
       "   movie_id                               title                         genre\n",
       "0         1                    Toy Story (1995)   Animation|Children's|Comedy\n",
       "1         2                      Jumanji (1995)  Adventure|Children's|Fantasy\n",
       "2         3             Grumpier Old Men (1995)                Comedy|Romance\n",
       "3         4            Waiting to Exhale (1995)                  Comedy|Drama\n",
       "4         5  Father of the Bride Part II (1995)                        Comedy"
      ]
     },
     "execution_count": 2,
     "metadata": {},
     "output_type": "execute_result"
    }
   ],
   "source": [
    "movie_url = './data/movies.dat'\n",
    "movie_df = pd.io.parsers.read_csv(movie_url, names=['movie_id', 'title', 'genre'], delimiter='::', engine ='python', encoding='ISO-8859-1')\n",
    "movie_df.head()"
   ]
  },
  {
   "cell_type": "markdown",
   "metadata": {
    "id": "O6EUoRG3fi8Z"
   },
   "source": [
    "### EDA - 사용자 수 및 영화개수"
   ]
  },
  {
   "cell_type": "code",
   "execution_count": 3,
   "metadata": {
    "colab": {
     "base_uri": "https://localhost:8080/"
    },
    "executionInfo": {
     "elapsed": 6783,
     "status": "ok",
     "timestamp": 1607416350377,
     "user": {
      "displayName": "윤기태",
      "photoUrl": "https://lh3.googleusercontent.com/a-/AOh14GhjX4czjHvHYRaEdNzkkF2s-g0b57J74mP9aSZTyg=s64",
      "userId": "10622173580637109440"
     },
     "user_tz": -540
    },
    "id": "MexH85N3fi8a",
    "outputId": "889203ee-263f-432a-d0fe-27592c9f7b75"
   },
   "outputs": [
    {
     "data": {
      "text/plain": [
       "6040"
      ]
     },
     "execution_count": 3,
     "metadata": {},
     "output_type": "execute_result"
    }
   ],
   "source": [
    "len(rating_df['user_id'].unique())"
   ]
  },
  {
   "cell_type": "code",
   "execution_count": 4,
   "metadata": {
    "colab": {
     "base_uri": "https://localhost:8080/"
    },
    "executionInfo": {
     "elapsed": 6775,
     "status": "ok",
     "timestamp": 1607416350377,
     "user": {
      "displayName": "윤기태",
      "photoUrl": "https://lh3.googleusercontent.com/a-/AOh14GhjX4czjHvHYRaEdNzkkF2s-g0b57J74mP9aSZTyg=s64",
      "userId": "10622173580637109440"
     },
     "user_tz": -540
    },
    "id": "XvHzcyACGTe1",
    "outputId": "5e9a250e-6581-45f2-dee2-876825318f93"
   },
   "outputs": [
    {
     "data": {
      "text/plain": [
       "3706"
      ]
     },
     "execution_count": 4,
     "metadata": {},
     "output_type": "execute_result"
    }
   ],
   "source": [
    "len(rating_df['movie_id'].unique())"
   ]
  },
  {
   "cell_type": "markdown",
   "metadata": {
    "id": "VMdnS_mJfi8i"
   },
   "source": [
    "### EDA - 영화평가 점수 분포"
   ]
  },
  {
   "cell_type": "code",
   "execution_count": 5,
   "metadata": {
    "id": "_IWsz3v1fi8g"
   },
   "outputs": [],
   "source": [
    "import matplotlib.pyplot as plt"
   ]
  },
  {
   "cell_type": "code",
   "execution_count": 6,
   "metadata": {
    "colab": {
     "base_uri": "https://localhost:8080/",
     "height": 282
    },
    "executionInfo": {
     "elapsed": 7082,
     "status": "ok",
     "timestamp": 1607416350697,
     "user": {
      "displayName": "윤기태",
      "photoUrl": "https://lh3.googleusercontent.com/a-/AOh14GhjX4czjHvHYRaEdNzkkF2s-g0b57J74mP9aSZTyg=s64",
      "userId": "10622173580637109440"
     },
     "user_tz": -540
    },
    "id": "5rLTyy_jHX7E",
    "outputId": "357cea50-84d2-445f-842c-d8906ffcd76f"
   },
   "outputs": [
    {
     "data": {
      "text/plain": [
       "<Axes: >"
      ]
     },
     "execution_count": 6,
     "metadata": {},
     "output_type": "execute_result"
    },
    {
     "data": {
      "image/png": "[encoded data removed]",
      "text/plain": [
       "<Figure size 640x480 with 1 Axes>"
      ]
     },
     "metadata": {},
     "output_type": "display_data"
    }
   ],
   "source": [
    "rating_df['rating'].hist()"
   ]
  },
  {
   "cell_type": "markdown",
   "metadata": {
    "id": "73JbBkvIW8GC"
   },
   "source": [
    "### Step 2. CF-based 모델링 (KNN)"
   ]
  },
  {
   "cell_type": "markdown",
   "metadata": {
    "id": "6xlaJbO8NapY"
   },
   "source": [
    "### Rating Matrix와 Collaborative Filtering (CF)\n",
    "----------\n",
    "\n",
    "#### Rating Matrix\n",
    "\n",
    "![rating matrix](https://www.researchgate.net/profile/Giuseppe_Manco3/publication/220907096/figure/fig1/AS:305570830667776@1449865171054/An-example-of-rating-matrix.png)\n",
    "\n",
    "    1. User를 Row, Item을 Column으로 하며 Value를 Rating으로 하는 행렬\n",
    "    2. Rating의 종류\n",
    "      - Explicit Feedback : 영화 점수, 리뷰 점수, 좋아요 표시...\n",
    "      - Implicit Feedback : 조회, 시청, 구매, 찜 표시... -> 실제 추천시스템에 가장 많이 활용됨\n",
    "    3. 위 행렬에서 빈 곳의 점수를 예측하는 방법\n",
    "    4. Rating Matrix를 추천 모델로 활용하는 방법\n",
    "      - Collaborative Filtering (CF)\n",
    "      - Matrix Factorization (MF)\n",
    "\n",
    "-----\n",
    "\n",
    "#### Collaborative Filtering (CF)\n",
    "\n",
    "![CF](./assets/Figure1.png)\n",
    "\n",
    "> User3이 서울의 봄을 평가한 정보는 없지만, 다른 영화들을 어떻게 평가했는지는 User1과 비슷하다고 볼 수 있다. 따라서, User1이 서울의 봄을 평가한 것을 토대로 User3도 서울의 봄에 5점에 가까운 점수를 줄 것이라 예상하고, 서울의 봄을 User3에게 추천하는 방식을 CF라 한다. \n",
    "    \n",
    "    1. User-based\n",
    "    2. Item-based : 새로 개봉한 영화의 장르 등 영화 정보만을 바탕으로 추천하는 방식\n",
    "\n",
    "-----"
   ]
  },
  {
   "cell_type": "markdown",
   "metadata": {
    "id": "VZRzhB4vUVAp"
   },
   "source": [
    "### Train/Test 데이터 분리"
   ]
  },
  {
   "cell_type": "code",
   "execution_count": 7,
   "metadata": {
    "colab": {
     "base_uri": "https://localhost:8080/"
    },
    "executionInfo": {
     "elapsed": 44683,
     "status": "ok",
     "timestamp": 1607416389242,
     "user": {
      "displayName": "윤기태",
      "photoUrl": "https://lh3.googleusercontent.com/a-/AOh14GhjX4czjHvHYRaEdNzkkF2s-g0b57J74mP9aSZTyg=s64",
      "userId": "10622173580637109440"
     },
     "user_tz": -540
    },
    "id": "gD2d2ziMJoAY",
    "outputId": "6eee7d15-b7d4-423e-d9f4-24943ebed71b"
   },
   "outputs": [
    {
     "name": "stdout",
     "output_type": "stream",
     "text": [
      "Requirement already satisfied: surprise in c:\\users\\administrator\\appdata\\local\\programs\\python\\python38\\lib\\site-packages (0.1)\n",
      "Requirement already satisfied: scikit-surprise in c:\\users\\administrator\\appdata\\local\\programs\\python\\python38\\lib\\site-packages (from surprise) (1.1.3)\n",
      "Requirement already satisfied: joblib>=1.0.0 in c:\\users\\administrator\\appdata\\local\\programs\\python\\python38\\lib\\site-packages (from scikit-surprise->surprise) (1.3.2)\n",
      "Requirement already satisfied: numpy>=1.17.3 in c:\\users\\administrator\\appdata\\local\\programs\\python\\python38\\lib\\site-packages (from scikit-surprise->surprise) (1.22.0)\n",
      "Requirement already satisfied: scipy>=1.3.2 in c:\\users\\administrator\\appdata\\local\\programs\\python\\python38\\lib\\site-packages (from scikit-surprise->surprise) (1.10.1)\n"
     ]
    }
   ],
   "source": [
    "!pip install surprise"
   ]
  },
  {
   "cell_type": "code",
   "execution_count": 8,
   "metadata": {
    "id": "gOGSYW5SUic6"
   },
   "outputs": [],
   "source": [
    "from surprise import Dataset, Reader\n",
    "from surprise.model_selection import train_test_split\n",
    "\n",
    "reader = Reader(rating_scale=(1, 5))\n",
    "data = Dataset.load_from_df(rating_df[['user_id', 'movie_id', 'rating']], reader)\n",
    "trainset, testset = train_test_split(data, test_size=.25)"
   ]
  },
  {
   "cell_type": "markdown",
   "metadata": {
    "id": "LsrXLeWVUVnk"
   },
   "source": [
    "### KNN 모델 학습\n",
    "\n",
    "-----\n",
    "\n",
    "#### KNN (K-Nearest Neighbor) 알고리즘\n",
    "> 새로운 입력으로 들어온 데이터를 특정값으로 분류하는데 현재 데이터와 가장 가까운 K개의 데이터를 찾아 가장 많은 분류 값으로 현재의 데이터를 분류하는 알고리즘\n",
    "\n",
    "![knn](https://ineed-coffee.github.io/assets/knn.png)\n",
    "> 새로운 혹은 특정한 데이터 별이 들어왔을 때 별과 가장 근접한 K개의 데이터를 이용해서 별이 파란색인지 노란색인지 찾아내는 알골리즈ㅡㅁ\n",
    "\n",
    "#### Surprise의 KNN\n",
    "\n",
    "> A basic collaborative filtering algorithm. The prediction 𝑟̂ 𝑢𝑖 is set as\n",
    "\n",
    "![suprise knn](https://drive.google.com/uc?id=1P9sMYJf2232m1Hi0ONfdHp3YT7L7AFHf)\n",
    "\n",
    "###### (https://surprise.readthedocs.io/en/stable/knn_inspired.html)\n",
    "    \n",
    "    [라이브러리의 대략적인 학습 과정]\n",
    "    1. User-based CF\n",
    "    2. 유저 A와 가장 영화를 유사하게 평가한 유저 k명을 선정\n",
    "    3. k명의 유저가 영화 a를 평가한 점수를 활용하여 위의 식대로 점수를 계산함\n",
    "    4. 이와 같은 방식으로 Rating Matrix를 완성\n",
    "-----\n",
    "    [Similarity]\n",
    "    1. 가장 일반적인 Similarity 계산 방식은 cosine similarity\n",
    "    2. 다른 방식은 euclidean distance, jaccard index, pearson correlation 등이 있음\n",
    "\n",
    "![cosine](https://builtin.com/sites/www.builtin.com/files/styles/ckeditor_optimize/public/inline-images/1_cosine-similarity.png)\n",
    "-----"
   ]
  },
  {
   "cell_type": "code",
   "execution_count": 9,
   "metadata": {
    "colab": {
     "base_uri": "https://localhost:8080/"
    },
    "executionInfo": {
     "elapsed": 702,
     "status": "ok",
     "timestamp": 1607416392967,
     "user": {
      "displayName": "윤기태",
      "photoUrl": "https://lh3.googleusercontent.com/a-/AOh14GhjX4czjHvHYRaEdNzkkF2s-g0b57J74mP9aSZTyg=s64",
      "userId": "10622173580637109440"
     },
     "user_tz": -540
    },
    "id": "z0QQ6k2fnJIh",
    "outputId": "5e2f2806-0c5a-45a8-ee81-291b895b4be1"
   },
   "outputs": [
    {
     "data": {
      "text/plain": [
       "4.775"
      ]
     },
     "execution_count": 9,
     "metadata": {},
     "output_type": "execute_result"
    }
   ],
   "source": [
    "# KNN의 이해를 돕기 위한 참고 코드\n",
    "\n",
    "aa = (0.9 * 5) + (0.9 * 4.3) + (1.0 * 5)\n",
    "bb = (0.9) + (0.9) + (1.0)\n",
    "aa/bb"
   ]
  },
  {
   "cell_type": "code",
   "execution_count": 10,
   "metadata": {
    "colab": {
     "base_uri": "https://localhost:8080/"
    },
    "executionInfo": {
     "elapsed": 222995,
     "status": "ok",
     "timestamp": 1607416615265,
     "user": {
      "displayName": "윤기태",
      "photoUrl": "https://lh3.googleusercontent.com/a-/AOh14GhjX4czjHvHYRaEdNzkkF2s-g0b57J74mP9aSZTyg=s64",
      "userId": "10622173580637109440"
     },
     "user_tz": -540
    },
    "id": "ebfTXN7nUlp1",
    "outputId": "a024d8b0-ff85-4d16-8d4d-72d6e29f9fe0"
   },
   "outputs": [
    {
     "name": "stdout",
     "output_type": "stream",
     "text": [
      "Computing the cosine similarity matrix...\n",
      "Done computing similarity matrix.\n"
     ]
    }
   ],
   "source": [
    "# 모델학습을 위한 라이브러리\n",
    "from surprise import KNNBasic\n",
    "# 모델이 얼마나 잘 학습되었는지를 평가하는 라이브러리\n",
    "from surprise import accuracy\n",
    "\n",
    "algo = KNNBasic(k=40, min_k=1, sim_options={\"user_based\": True, \"name\": \"cosine\"})\n",
    "algo.fit(trainset)\n",
    "predictions = algo.test(testset)"
   ]
  },
  {
   "cell_type": "markdown",
   "metadata": {
    "id": "b7sO7lrxUV9l"
   },
   "source": [
    "### 모델 평가 - RMSE 이용"
   ]
  },
  {
   "cell_type": "code",
   "execution_count": 11,
   "metadata": {
    "colab": {
     "base_uri": "https://localhost:8080/"
    },
    "executionInfo": {
     "elapsed": 222989,
     "status": "ok",
     "timestamp": 1607416615265,
     "user": {
      "displayName": "윤기태",
      "photoUrl": "https://lh3.googleusercontent.com/a-/AOh14GhjX4czjHvHYRaEdNzkkF2s-g0b57J74mP9aSZTyg=s64",
      "userId": "10622173580637109440"
     },
     "user_tz": -540
    },
    "id": "kT2o73OC4TUZ",
    "outputId": "fe0d24ed-0dd8-4513-e064-ced05785bc80"
   },
   "outputs": [
    {
     "name": "stdout",
     "output_type": "stream",
     "text": [
      "RMSE: 0.9748\n"
     ]
    },
    {
     "data": {
      "text/plain": [
       "0.9747836121151744"
      ]
     },
     "execution_count": 11,
     "metadata": {},
     "output_type": "execute_result"
    }
   ],
   "source": [
    "accuracy.rmse(predictions)"
   ]
  },
  {
   "cell_type": "markdown",
   "metadata": {
    "id": "G6gHR0e84PLO"
   },
   "source": [
    "### 테스트 데이터셋에서 일부 결과 확인"
   ]
  },
  {
   "cell_type": "code",
   "execution_count": 12,
   "metadata": {
    "colab": {
     "base_uri": "https://localhost:8080/"
    },
    "executionInfo": {
     "elapsed": 830,
     "status": "ok",
     "timestamp": 1607416633755,
     "user": {
      "displayName": "윤기태",
      "photoUrl": "https://lh3.googleusercontent.com/a-/AOh14GhjX4czjHvHYRaEdNzkkF2s-g0b57J74mP9aSZTyg=s64",
      "userId": "10622173580637109440"
     },
     "user_tz": -540
    },
    "id": "Ky6--iu74To0",
    "outputId": "ed81e5db-417b-4fd3-b840-d65e010b62f2"
   },
   "outputs": [
    {
     "data": {
      "text/plain": [
       "[Prediction(uid=1556, iid=3097, r_ui=5.0, est=4.153330435179539, details={'actual_k': 40, 'was_impossible': False}),\n",
       " Prediction(uid=5205, iid=110, r_ui=5.0, est=4.1748409289313315, details={'actual_k': 40, 'was_impossible': False}),\n",
       " Prediction(uid=5341, iid=2871, r_ui=4.0, est=4.050412902704427, details={'actual_k': 40, 'was_impossible': False}),\n",
       " Prediction(uid=5647, iid=2077, r_ui=2.0, est=3.4984822290436646, details={'actual_k': 40, 'was_impossible': False}),\n",
       " Prediction(uid=1285, iid=1172, r_ui=4.0, est=4.625138395475403, details={'actual_k': 40, 'was_impossible': False}),\n",
       " Prediction(uid=4974, iid=356, r_ui=3.0, est=4.0, details={'actual_k': 40, 'was_impossible': False}),\n",
       " Prediction(uid=5181, iid=3155, r_ui=4.0, est=3.7747508260892615, details={'actual_k': 40, 'was_impossible': False}),\n",
       " Prediction(uid=2453, iid=1704, r_ui=5.0, est=4.298657471684807, details={'actual_k': 40, 'was_impossible': False}),\n",
       " Prediction(uid=2808, iid=2010, r_ui=4.0, est=4.300793482731878, details={'actual_k': 40, 'was_impossible': False}),\n",
       " Prediction(uid=5615, iid=1500, r_ui=4.0, est=3.6505951583569156, details={'actual_k': 40, 'was_impossible': False}),\n",
       " Prediction(uid=5011, iid=1544, r_ui=4.0, est=3.5983460052138856, details={'actual_k': 40, 'was_impossible': False}),\n",
       " Prediction(uid=368, iid=454, r_ui=5.0, est=3.7740176370177005, details={'actual_k': 40, 'was_impossible': False}),\n",
       " Prediction(uid=2260, iid=11, r_ui=4.0, est=3.825, details={'actual_k': 40, 'was_impossible': False}),\n",
       " Prediction(uid=1354, iid=914, r_ui=3.0, est=4.376403588886951, details={'actual_k': 40, 'was_impossible': False}),\n",
       " Prediction(uid=156, iid=356, r_ui=4.0, est=3.925, details={'actual_k': 40, 'was_impossible': False}),\n",
       " Prediction(uid=4293, iid=1136, r_ui=5.0, est=4.425, details={'actual_k': 40, 'was_impossible': False}),\n",
       " Prediction(uid=4472, iid=1047, r_ui=2.0, est=4.075841070890904, details={'actual_k': 40, 'was_impossible': False}),\n",
       " Prediction(uid=1842, iid=1333, r_ui=4.0, est=4.299380409052719, details={'actual_k': 40, 'was_impossible': False}),\n",
       " Prediction(uid=2635, iid=2657, r_ui=2.0, est=3.15, details={'actual_k': 40, 'was_impossible': False}),\n",
       " Prediction(uid=4499, iid=473, r_ui=1.0, est=2.3761715215021204, details={'actual_k': 40, 'was_impossible': False})]"
      ]
     },
     "execution_count": 12,
     "metadata": {},
     "output_type": "execute_result"
    }
   ],
   "source": [
    "predictions = algo.test(testset[:20])\n",
    "predictions\n"
   ]
  },
  {
   "cell_type": "code",
   "execution_count": 13,
   "metadata": {},
   "outputs": [
    {
     "name": "stdout",
     "output_type": "stream",
     "text": [
      "Item id 3097 | real rating : 5.0 | predicted rating : 4.153330435179539\n",
      "Item id 110 | real rating : 5.0 | predicted rating : 4.1748409289313315\n",
      "Item id 2871 | real rating : 4.0 | predicted rating : 4.050412902704427\n",
      "Item id 2077 | real rating : 2.0 | predicted rating : 3.4984822290436646\n",
      "Item id 1172 | real rating : 4.0 | predicted rating : 4.625138395475403\n",
      "Item id 356 | real rating : 3.0 | predicted rating : 4.0\n",
      "Item id 3155 | real rating : 4.0 | predicted rating : 3.7747508260892615\n",
      "Item id 1704 | real rating : 5.0 | predicted rating : 4.298657471684807\n",
      "Item id 2010 | real rating : 4.0 | predicted rating : 4.300793482731878\n",
      "Item id 1500 | real rating : 4.0 | predicted rating : 3.6505951583569156\n",
      "Item id 1544 | real rating : 4.0 | predicted rating : 3.5983460052138856\n",
      "Item id 454 | real rating : 5.0 | predicted rating : 3.7740176370177005\n",
      "Item id 11 | real rating : 4.0 | predicted rating : 3.825\n",
      "Item id 914 | real rating : 3.0 | predicted rating : 4.376403588886951\n",
      "Item id 356 | real rating : 4.0 | predicted rating : 3.925\n",
      "Item id 1136 | real rating : 5.0 | predicted rating : 4.425\n",
      "Item id 1047 | real rating : 2.0 | predicted rating : 4.075841070890904\n",
      "Item id 1333 | real rating : 4.0 | predicted rating : 4.299380409052719\n",
      "Item id 2657 | real rating : 2.0 | predicted rating : 3.15\n",
      "Item id 473 | real rating : 1.0 | predicted rating : 2.3761715215021204\n"
     ]
    }
   ],
   "source": [
    "for _, iid, r_ui, est, _ in predictions:\n",
    "    print(\"Item id\", iid, \"|\", \"real rating :\", r_ui, \"|\", \"predicted rating :\", est)"
   ]
  }
 ],
 "metadata": {
  "colab": {
   "collapsed_sections": [],
   "name": "1. Rating Matrix를 활용한 영화 추천 모델의 사본",
   "provenance": [
    {
     "file_id": "1cS2OjWOehEb97E7763rQ_LrzQIK34Kd-",
     "timestamp": 1604921871166
    },
    {
     "file_id": "1g7SaVjG6EvBPvIH4ADG2RA3qN8v521d1",
     "timestamp": 1604886286018
    }
   ]
  },
  "kernelspec": {
   "display_name": "Python 3 (ipykernel)",
   "language": "python",
   "name": "python3"
  },
  "language_info": {
   "codemirror_mode": {
    "name": "ipython",
    "version": 3
   },
   "file_extension": ".py",
   "mimetype": "text/x-python",
   "name": "python",
   "nbconvert_exporter": "python",
   "pygments_lexer": "ipython3",
   "version": "3.8.9"
  }
 },
 "nbformat": 4,
 "nbformat_minor": 4
}
